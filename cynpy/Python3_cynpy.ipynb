{
 "cells": [
  {
   "cell_type": "markdown",
   "id": "03e77995",
   "metadata": {},
   "source": [
    "## try AARDVARK"
   ]
  },
  {
   "cell_type": "code",
   "execution_count": 1,
   "id": "f06be6ff",
   "metadata": {},
   "outputs": [
    {
     "name": "stdout",
     "output_type": "stream",
     "text": [
      "AARDVARK handle: 1\n",
      "QUERY: ok\n",
      "AA_TARGET_POWER_BOTH 3\n"
     ]
    }
   ],
   "source": [
    "%run ./aardv.py sw"
   ]
  },
  {
   "cell_type": "markdown",
   "id": "3847582c",
   "metadata": {},
   "source": [
    "### if the AARDVARK didn't released properly"
   ]
  },
  {
   "cell_type": "code",
   "execution_count": 6,
   "id": "7e3dadec",
   "metadata": {},
   "outputs": [
    {
     "data": {
      "text/plain": [
       "-9"
      ]
     },
     "execution_count": 6,
     "metadata": {},
     "output_type": "execute_result"
    }
   ],
   "source": [
    "from aardvark_py import *\n",
    "aa_close(1)"
   ]
  },
  {
   "cell_type": "markdown",
   "id": "a62b0024",
   "metadata": {},
   "source": [
    "## try I2C bus"
   ]
  },
  {
   "cell_type": "code",
   "execution_count": 2,
   "id": "898229e4",
   "metadata": {},
   "outputs": [
    {
     "name": "stdout",
     "output_type": "stream",
     "text": [
      "enum: 1 AARDVARK port found\n",
      "port 0 vvvvvvvvvv\n",
      "AARDVARK handle: 1\n",
      "struct AardvarkVersion {\n",
      "\tsoftware: 528\n",
      "\tfirmware: 333\n",
      "\thardware: 300\n",
      "\tsw_req_by_fw: 300\n",
      "\tfw_req_by_sw: 332\n",
      "\tapi_req_by_sw: 500\n",
      "};\n",
      "Searching I2C slave.....\n",
      "(0, 0) ok\n",
      "device 0x70 found\n",
      "[112]\n"
     ]
    }
   ],
   "source": [
    "%run ./i2c.py probe"
   ]
  },
  {
   "cell_type": "markdown",
   "id": "cdc63cca",
   "metadata": {},
   "source": [
    "## check the I2C slave"
   ]
  },
  {
   "cell_type": "code",
   "execution_count": 5,
   "id": "9da1d2bb",
   "metadata": {},
   "outputs": [
    {
     "name": "stdout",
     "output_type": "stream",
     "text": [
      "Unable to open Aardvark device on port 0\n",
      "Error code = -7\n",
      "'bufsz':34\n",
      "'name':''\n",
      "'revid':0\n"
     ]
    }
   ],
   "source": [
    "%run ./isp.py rev"
   ]
  },
  {
   "cell_type": "markdown",
   "id": "45461441",
   "metadata": {},
   "source": [
    "## msvcrt.kbhit() doesn't work in notebook"
   ]
  },
  {
   "cell_type": "markdown",
   "id": "a4ff5509",
   "metadata": {},
   "source": [
    "## dump SFR of the CAN-chip of I2C slave"
   ]
  },
  {
   "cell_type": "code",
   "execution_count": null,
   "id": "a705d634",
   "metadata": {},
   "outputs": [],
   "source": [
    "%run ./isp.py d"
   ]
  }
 ],
 "metadata": {
  "kernelspec": {
   "display_name": "Python 3",
   "language": "python",
   "name": "python3"
  },
  "language_info": {
   "codemirror_mode": {
    "name": "ipython",
    "version": 3
   },
   "file_extension": ".py",
   "mimetype": "text/x-python",
   "name": "python",
   "nbconvert_exporter": "python",
   "pygments_lexer": "ipython3",
   "version": "3.8.8"
  }
 },
 "nbformat": 4,
 "nbformat_minor": 5
}
